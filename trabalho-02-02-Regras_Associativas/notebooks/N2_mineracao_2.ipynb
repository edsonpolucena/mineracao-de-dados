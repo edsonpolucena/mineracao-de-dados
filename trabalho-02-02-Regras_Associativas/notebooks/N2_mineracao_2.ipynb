{
  "nbformat": 4,
  "nbformat_minor": 0,
  "metadata": {
    "colab": {
      "provenance": [],
      "include_colab_link": true
    },
    "kernelspec": {
      "name": "python3",
      "display_name": "Python 3"
    },
    "language_info": {
      "name": "python"
    }
  },
  "cells": [
    {
      "cell_type": "markdown",
      "metadata": {
        "id": "view-in-github",
        "colab_type": "text"
      },
      "source": [
        "<a href=\"https://colab.research.google.com/github/edsonpolucena/mineracao-de-dados/blob/main/trabalho-02-02-Regras_Associativas/notebooks/N2_mineracao_2.ipynb\" target=\"_parent\"><img src=\"https://colab.research.google.com/assets/colab-badge.svg\" alt=\"Open In Colab\"/></a>"
      ]
    },
    {
      "cell_type": "code",
      "execution_count": null,
      "metadata": {
        "colab": {
          "base_uri": "https://localhost:8080/"
        },
        "id": "SNtM1NrNZxXk",
        "outputId": "4dbb6700-73e1-4dda-d8b8-81e7535511ec"
      },
      "outputs": [
        {
          "output_type": "stream",
          "name": "stdout",
          "text": [
            "Requirement already satisfied: mlxtend in /usr/local/lib/python3.11/dist-packages (0.23.4)\n",
            "Requirement already satisfied: pandas in /usr/local/lib/python3.11/dist-packages (2.2.2)\n",
            "Requirement already satisfied: scipy>=1.2.1 in /usr/local/lib/python3.11/dist-packages (from mlxtend) (1.15.2)\n",
            "Requirement already satisfied: numpy>=1.16.2 in /usr/local/lib/python3.11/dist-packages (from mlxtend) (2.0.2)\n",
            "Requirement already satisfied: scikit-learn>=1.3.1 in /usr/local/lib/python3.11/dist-packages (from mlxtend) (1.6.1)\n",
            "Requirement already satisfied: matplotlib>=3.0.0 in /usr/local/lib/python3.11/dist-packages (from mlxtend) (3.10.0)\n",
            "Requirement already satisfied: joblib>=0.13.2 in /usr/local/lib/python3.11/dist-packages (from mlxtend) (1.4.2)\n",
            "Requirement already satisfied: python-dateutil>=2.8.2 in /usr/local/lib/python3.11/dist-packages (from pandas) (2.9.0.post0)\n",
            "Requirement already satisfied: pytz>=2020.1 in /usr/local/lib/python3.11/dist-packages (from pandas) (2025.2)\n",
            "Requirement already satisfied: tzdata>=2022.7 in /usr/local/lib/python3.11/dist-packages (from pandas) (2025.2)\n",
            "Requirement already satisfied: contourpy>=1.0.1 in /usr/local/lib/python3.11/dist-packages (from matplotlib>=3.0.0->mlxtend) (1.3.2)\n",
            "Requirement already satisfied: cycler>=0.10 in /usr/local/lib/python3.11/dist-packages (from matplotlib>=3.0.0->mlxtend) (0.12.1)\n",
            "Requirement already satisfied: fonttools>=4.22.0 in /usr/local/lib/python3.11/dist-packages (from matplotlib>=3.0.0->mlxtend) (4.57.0)\n",
            "Requirement already satisfied: kiwisolver>=1.3.1 in /usr/local/lib/python3.11/dist-packages (from matplotlib>=3.0.0->mlxtend) (1.4.8)\n",
            "Requirement already satisfied: packaging>=20.0 in /usr/local/lib/python3.11/dist-packages (from matplotlib>=3.0.0->mlxtend) (24.2)\n",
            "Requirement already satisfied: pillow>=8 in /usr/local/lib/python3.11/dist-packages (from matplotlib>=3.0.0->mlxtend) (11.2.1)\n",
            "Requirement already satisfied: pyparsing>=2.3.1 in /usr/local/lib/python3.11/dist-packages (from matplotlib>=3.0.0->mlxtend) (3.2.3)\n",
            "Requirement already satisfied: six>=1.5 in /usr/local/lib/python3.11/dist-packages (from python-dateutil>=2.8.2->pandas) (1.17.0)\n",
            "Requirement already satisfied: threadpoolctl>=3.1.0 in /usr/local/lib/python3.11/dist-packages (from scikit-learn>=1.3.1->mlxtend) (3.6.0)\n",
            "\n",
            "=== Regras Geradas ===\n",
            "Regra: {'Matrix'} => {'Inception'}\n",
            " - Suporte: 0.50\n",
            " - Confiança: 0.75\n",
            " - Lift: 1.12\n",
            "-------------------------------\n",
            "Regra: {'Inception'} => {'Matrix'}\n",
            " - Suporte: 0.50\n",
            " - Confiança: 0.75\n",
            " - Lift: 1.12\n",
            "-------------------------------\n",
            "Regra: {'Avatar'} => {'Matrix'}\n",
            " - Suporte: 0.50\n",
            " - Confiança: 0.75\n",
            " - Lift: 1.12\n",
            "-------------------------------\n",
            "Regra: {'Matrix'} => {'Avatar'}\n",
            " - Suporte: 0.50\n",
            " - Confiança: 0.75\n",
            " - Lift: 1.12\n",
            "-------------------------------\n",
            "Regra: {'Avatar', 'Inception'} => {'Matrix'}\n",
            " - Suporte: 0.33\n",
            " - Confiança: 1.00\n",
            " - Lift: 1.50\n",
            "-------------------------------\n",
            "           antecedents  consequents   support  confidence   lift\n",
            "0             (Matrix)  (Inception)  0.500000        0.75  1.125\n",
            "1          (Inception)     (Matrix)  0.500000        0.75  1.125\n",
            "2             (Avatar)     (Matrix)  0.500000        0.75  1.125\n",
            "3             (Matrix)     (Avatar)  0.500000        0.75  1.125\n",
            "4  (Avatar, Inception)     (Matrix)  0.333333        1.00  1.500\n"
          ]
        }
      ],
      "source": [
        "!pip install mlxtend pandas\n",
        "\n",
        "from mlxtend.frequent_patterns import fpgrowth, association_rules\n",
        "from mlxtend.preprocessing import TransactionEncoder\n",
        "import pandas as pd\n",
        "\n",
        "transactions = [\n",
        "    ['Matrix', 'Inception', 'Avatar'],\n",
        "    ['Matrix', 'Inception'],\n",
        "    ['Avatar', 'Titanic'],\n",
        "    ['Matrix', 'Avatar', 'Titanic'],\n",
        "    ['Inception', 'Titanic'],\n",
        "    ['Matrix', 'Inception', 'Avatar'],\n",
        "]\n",
        "\n",
        "te = TransactionEncoder()\n",
        "te_array = te.fit_transform(transactions)\n",
        "df = pd.DataFrame(te_array, columns=te.columns_)\n",
        "\n",
        "frequent_itemsets = fpgrowth(df, min_support=0.3, use_colnames=True)\n",
        "\n",
        "rules = association_rules(frequent_itemsets, metric=\"confidence\", min_threshold=0.7)\n",
        "\n",
        "filtered_rules = rules[rules['lift'] >= 1.0]\n",
        "\n",
        "print(\"\\n=== Regras Geradas ===\")\n",
        "for idx, row in filtered_rules.iterrows():\n",
        "    print(f\"Regra: {set(row['antecedents'])} => {set(row['consequents'])}\")\n",
        "    print(f\" - Suporte: {row['support']:.2f}\")\n",
        "    print(f\" - Confiança: {row['confidence']:.2f}\")\n",
        "    print(f\" - Lift: {row['lift']:.2f}\")\n",
        "    print(\"-------------------------------\")\n",
        "\n",
        "\n",
        "print(filtered_rules[['antecedents', 'consequents', 'support', 'confidence', 'lift']])"
      ]
    }
  ]
}